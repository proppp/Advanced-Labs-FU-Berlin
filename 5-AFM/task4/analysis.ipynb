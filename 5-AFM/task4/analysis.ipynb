{
 "cells": [
  {
   "cell_type": "code",
   "execution_count": 1,
   "metadata": {},
   "outputs": [],
   "source": [
    "import numpy as np\n",
    "import matplotlib.pyplot as plt\n",
    "import os"
   ]
  },
  {
   "cell_type": "code",
   "execution_count": 6,
   "metadata": {},
   "outputs": [
    {
     "name": "stdout",
     "output_type": "stream",
     "text": [
      "Found .cur files: ['Au_HOPG_01_0016_Amplitude_Avg.iv.cur', 'Au_HOPG_01_0013_Amplitude_Avg.iv.cur', 'Au_HOPG_01_0012_Amplitude_Avg.iv.cur', 'Au_HOPG_01_0009_Amplitude_Avg.iv.cur', 'Au_HOPG_01_0011_Amplitude_Avg.iv.cur', 'Au_HOPG_01_0014_Amplitude_Avg.iv.cur', 'Au_HOPG_01_0007_Amplitude_Avg.iv.cur', 'Au_HOPG_01_0008_Amplitude_Avg.iv.cur', 'Au_HOPG_01_0010_Amplitude_Avg.iv.cur', 'Au_HOPG_01_0015_Amplitude_Avg.iv.cur']\n",
      "Error reading or plotting the file Au_islands/Au_HOPG_01_0016_Amplitude_Avg.iv.cur: could not convert string to float: 'IV'\n"
     ]
    }
   ],
   "source": [
    "\n",
    "\n",
    "def plot_curves_file(filename):\n",
    "    try:\n",
    "        # Open the file and read lines\n",
    "        with open(filename, 'r') as f:\n",
    "            lines = f.readlines()\n",
    "        \n",
    "        # Find where the numerical data starts by searching for the line number\n",
    "        data_start_line = None\n",
    "        for i, line in enumerate(lines):\n",
    "            # Look for a line that doesn't start with a comment or 'WSxM' or any metadata pattern\n",
    "            if line.strip() and not line.startswith(('WSxM', '#', '!', ';')):\n",
    "                data_start_line = i\n",
    "                break\n",
    "        \n",
    "        if data_start_line is None:\n",
    "            raise ValueError(\"Couldn't find the data in the file.\")\n",
    "\n",
    "        # Extract the numerical data starting from the appropriate line\n",
    "        data = np.loadtxt(lines[data_start_line:])  # Read numerical data\n",
    "\n",
    "        # Ensure at least two columns exist\n",
    "        if data.shape[1] < 2:\n",
    "            raise ValueError(\"File must have at least two columns (e.g., distance vs. force).\")\n",
    "\n",
    "        x, y = data[:, 0], data[:, 1]  # First column: x-axis (distance), Second column: y-axis (force)\n",
    "\n",
    "        # Plot the data\n",
    "        plt.figure(figsize=(8, 6))\n",
    "        plt.plot(x, y, label=\"Force-Distance Curve\", color=\"b\", linewidth=1)\n",
    "        plt.xlabel(\"Distance (nm)\")  # Adjust label based on your data\n",
    "        plt.ylabel(\"Force (nN)\")  # Adjust label based on your data\n",
    "        plt.title(\"AFM Force-Distance Curve\")\n",
    "        plt.legend()\n",
    "        plt.grid(True)\n",
    "        plt.show()\n",
    "\n",
    "    except Exception as e:\n",
    "        print(f\"Error reading or plotting the file {filename}: {e}\")\n",
    "\n",
    "# Specify the directory path\n",
    "directory = 'Au_islands'\n",
    "\n",
    "# List all files in the directory\n",
    "file_names = os.listdir(directory)\n",
    "\n",
    "# Filter out directories and non-.cur files\n",
    "file_names = [f for f in file_names if os.path.isfile(os.path.join(directory, f)) and f.endswith('.cur')]\n",
    "\n",
    "# Print the file names\n",
    "print(\"Found .cur files:\", file_names)\n",
    "\n",
    "# Check if there are any .cur files\n",
    "if file_names:\n",
    "    # Generate the full file path using os.path.join\n",
    "    full_file_path = os.path.join(directory, file_names[0])\n",
    "\n",
    "    # Example usage with the first .cur file\n",
    "    plot_curves_file(full_file_path)\n",
    "else:\n",
    "    print(\"No .cur files found in the specified directory.\")\n"
   ]
  }
 ],
 "metadata": {
  "kernelspec": {
   "display_name": "Python 3",
   "language": "python",
   "name": "python3"
  },
  "language_info": {
   "codemirror_mode": {
    "name": "ipython",
    "version": 3
   },
   "file_extension": ".py",
   "mimetype": "text/x-python",
   "name": "python",
   "nbconvert_exporter": "python",
   "pygments_lexer": "ipython3",
   "version": "3.7.3"
  }
 },
 "nbformat": 4,
 "nbformat_minor": 2
}
